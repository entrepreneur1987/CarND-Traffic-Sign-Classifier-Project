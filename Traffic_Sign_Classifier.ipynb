{
 "cells": [
  {
   "cell_type": "markdown",
   "metadata": {},
   "source": [
    "# Self-Driving Car Engineer Nanodegree\n",
    "\n",
    "## Deep Learning\n",
    "\n",
    "## Project: Build a Traffic Sign Recognition Classifier\n",
    "\n",
    "In this notebook, a template is provided for you to implement your functionality in stages, which is required to successfully complete this project. If additional code is required that cannot be included in the notebook, be sure that the Python code is successfully imported and included in your submission if necessary. \n",
    "\n",
    "> **Note**: Once you have completed all of the code implementations, you need to finalize your work by exporting the iPython Notebook as an HTML document. Before exporting the notebook to html, all of the code cells need to have been run so that reviewers can see the final implementation and output. You can then export the notebook by using the menu above and navigating to  \\n\",\n",
    "    \"**File -> Download as -> HTML (.html)**. Include the finished document along with this notebook as your submission. \n",
    "\n",
    "In addition to implementing code, there is a writeup to complete. The writeup should be completed in a separate file, which can be either a markdown file or a pdf document. There is a [write up template](https://github.com/udacity/CarND-Traffic-Sign-Classifier-Project/blob/master/writeup_template.md) that can be used to guide the writing process. Completing the code template and writeup template will cover all of the [rubric points](https://review.udacity.com/#!/rubrics/481/view) for this project.\n",
    "\n",
    "The [rubric](https://review.udacity.com/#!/rubrics/481/view) contains \"Stand Out Suggestions\" for enhancing the project beyond the minimum requirements. The stand out suggestions are optional. If you decide to pursue the \"stand out suggestions\", you can include the code in this Ipython notebook and also discuss the results in the writeup file.\n",
    "\n",
    "\n",
    ">**Note:** Code and Markdown cells can be executed using the **Shift + Enter** keyboard shortcut. In addition, Markdown cells can be edited by typically double-clicking the cell to enter edit mode."
   ]
  },
  {
   "cell_type": "markdown",
   "metadata": {},
   "source": [
    "---\n",
    "## Step 0: Load The Data"
   ]
  },
  {
   "cell_type": "code",
   "execution_count": 4,
   "metadata": {
    "collapsed": true
   },
   "outputs": [],
   "source": [
    "# Load pickled data\n",
    "import pickle\n",
    "\n",
    "# TODO: Fill this in based on where you saved the training and testing data\n",
    "\n",
    "training_file = 'data/train.p'\n",
    "validation_file= 'data/valid.p'\n",
    "testing_file = 'data/test.p'\n",
    "\n",
    "with open(training_file, mode='rb') as f:\n",
    "    train = pickle.load(f)\n",
    "with open(validation_file, mode='rb') as f:\n",
    "    valid = pickle.load(f)\n",
    "with open(testing_file, mode='rb') as f:\n",
    "    test = pickle.load(f)\n",
    "    \n",
    "X_train, y_train = train['features'], train['labels']\n",
    "X_valid, y_valid = valid['features'], valid['labels']\n",
    "X_test, y_test = test['features'], test['labels']"
   ]
  },
  {
   "cell_type": "markdown",
   "metadata": {},
   "source": [
    "---\n",
    "\n",
    "## Step 1: Dataset Summary & Exploration\n",
    "\n",
    "The pickled data is a dictionary with 4 key/value pairs:\n",
    "\n",
    "- `'features'` is a 4D array containing raw pixel data of the traffic sign images, (num examples, width, height, channels).\n",
    "- `'labels'` is a 1D array containing the label/class id of the traffic sign. The file `signnames.csv` contains id -> name mappings for each id.\n",
    "- `'sizes'` is a list containing tuples, (width, height) representing the original width and height the image.\n",
    "- `'coords'` is a list containing tuples, (x1, y1, x2, y2) representing coordinates of a bounding box around the sign in the image. **THESE COORDINATES ASSUME THE ORIGINAL IMAGE. THE PICKLED DATA CONTAINS RESIZED VERSIONS (32 by 32) OF THESE IMAGES**\n",
    "\n",
    "Complete the basic data summary below. Use python, numpy and/or pandas methods to calculate the data summary rather than hard coding the results. For example, the [pandas shape method](http://pandas.pydata.org/pandas-docs/stable/generated/pandas.DataFrame.shape.html) might be useful for calculating some of the summary results. "
   ]
  },
  {
   "cell_type": "markdown",
   "metadata": {},
   "source": [
    "### Provide a Basic Summary of the Data Set Using Python, Numpy and/or Pandas"
   ]
  },
  {
   "cell_type": "code",
   "execution_count": 5,
   "metadata": {},
   "outputs": [
    {
     "name": "stdout",
     "output_type": "stream",
     "text": [
      "Number of training examples = 34799\n",
      "Number of testing examples = 4410\n",
      "Image data shape = (32, 32, 3)\n",
      "Number of classes = 43\n"
     ]
    }
   ],
   "source": [
    "### Replace each question mark with the appropriate value. \n",
    "### Use python, pandas or numpy methods rather than hard coding the results\n",
    "import numpy as np\n",
    "# TODO: Number of training examples\n",
    "n_train = np.shape(X_train)[0]\n",
    "\n",
    "# TODO: Number of validation examples\n",
    "n_validation = np.shape(X_valid)[0]\n",
    "\n",
    "# TODO: Number of testing examples.\n",
    "n_test = np.shape(X_valid)[0]\n",
    "\n",
    "# TODO: What's the shape of an traffic sign image?\n",
    "image_shape = X_train[0].shape\n",
    "\n",
    "# TODO: How many unique classes/labels there are in the dataset.\n",
    "n_classes = np.unique(y_train).size\n",
    "\n",
    "print(\"Number of training examples =\", n_train)\n",
    "print(\"Number of testing examples =\", n_test)\n",
    "print(\"Image data shape =\", image_shape)\n",
    "print(\"Number of classes =\", n_classes)"
   ]
  },
  {
   "cell_type": "markdown",
   "metadata": {},
   "source": [
    "### Include an exploratory visualization of the dataset"
   ]
  },
  {
   "cell_type": "markdown",
   "metadata": {},
   "source": [
    "Visualize the German Traffic Signs Dataset using the pickled file(s). This is open ended, suggestions include: plotting traffic sign images, plotting the count of each sign, etc. \n",
    "\n",
    "The [Matplotlib](http://matplotlib.org/) [examples](http://matplotlib.org/examples/index.html) and [gallery](http://matplotlib.org/gallery.html) pages are a great resource for doing visualizations in Python.\n",
    "\n",
    "**NOTE:** It's recommended you start with something simple first. If you wish to do more, come back to it after you've completed the rest of the sections. It can be interesting to look at the distribution of classes in the training, validation and test set. Is the distribution the same? Are there more examples of some classes than others?"
   ]
  },
  {
   "cell_type": "code",
   "execution_count": 6,
   "metadata": {
    "scrolled": false
   },
   "outputs": [
    {
     "data": {
      "text/plain": [
       "<matplotlib.text.Text at 0x120a51518>"
      ]
     },
     "execution_count": 6,
     "metadata": {},
     "output_type": "execute_result"
    },
    {
     "data": {
      "image/png": "[encoded data removed]",
      "text/plain": [
       "<matplotlib.figure.Figure at 0x10bb674e0>"
      ]
     },
     "metadata": {},
     "output_type": "display_data"
    },
    {
     "data": {
      "image/png": "[encoded data removed]",
      "text/plain": [
       "<matplotlib.figure.Figure at 0x10386c6d8>"
      ]
     },
     "metadata": {},
     "output_type": "display_data"
    },
    {
     "data": {
      "image/png": "[encoded data removed]",
      "text/plain": [
       "<matplotlib.figure.Figure at 0x12093c320>"
      ]
     },
     "metadata": {},
     "output_type": "display_data"
    }
   ],
   "source": [
    "### Data exploration visualization code goes here.\n",
    "### Feel free to use as many code cells as needed.\n",
    "import matplotlib.pyplot as plt\n",
    "# Visualizations will be shown in the notebook.\n",
    "%matplotlib inline\n",
    "def get_example_distribution(y):\n",
    "    track = dict()\n",
    "    for _, c in np.ndenumerate(y):\n",
    "        if c in track:\n",
    "            track[c] += 1\n",
    "        else:\n",
    "            track[c] = 1\n",
    "    x_ = list(track.keys())\n",
    "    y_ = list(track.values())\n",
    "    return x_, y_, track\n",
    "\n",
    "orig_x_train, orig_y_train, track = get_example_distribution(y_train)\n",
    "orig_x_valid, orig_y_valid, _ = get_example_distribution(y_valid)\n",
    "orig_x_test, orig_y_test, _ = get_example_distribution(y_test)\n",
    "\n",
    "\n",
    "plt.figure(1)\n",
    "plt.bar(orig_x_train, orig_y_train, align='center', alpha=0.5)\n",
    "plt.title(\"Original Training Traffic Sign Distribution\")\n",
    "plt.xlabel(\"Class\")\n",
    "plt.ylabel(\"Number of examples\")\n",
    "\n",
    "plt.figure(2)\n",
    "plt.bar(orig_x_valid, orig_y_valid, align='center', alpha=0.5)\n",
    "plt.title(\"Traffic Validation Sign Distribution\")\n",
    "plt.xlabel(\"Class\")\n",
    "plt.ylabel(\"Number of examples\")\n",
    "\n",
    "plt.figure(3)\n",
    "plt.bar(orig_x_test, orig_y_test, align='center', alpha=0.5)\n",
    "plt.title(\"Original Test Traffic Sign Distribution\")\n",
    "plt.xlabel(\"Class\")\n",
    "plt.ylabel(\"Number of examples\")\n",
    "\n",
    "\n"
   ]
  },
  {
   "cell_type": "code",
   "execution_count": null,
   "metadata": {},
   "outputs": [],
   "source": []
  },
  {
   "cell_type": "code",
   "execution_count": null,
   "metadata": {
    "collapsed": true
   },
   "outputs": [],
   "source": []
  },
  {
   "cell_type": "markdown",
   "metadata": {},
   "source": [
    "----\n",
    "\n",
    "## Step 2: Design and Test a Model Architecture\n",
    "\n",
    "Design and implement a deep learning model that learns to recognize traffic signs. Train and test your model on the [German Traffic Sign Dataset](http://benchmark.ini.rub.de/?section=gtsrb&subsection=dataset).\n",
    "\n",
    "The LeNet-5 implementation shown in the [classroom](https://classroom.udacity.com/nanodegrees/nd013/parts/fbf77062-5703-404e-b60c-95b78b2f3f9e/modules/6df7ae49-c61c-4bb2-a23e-6527e69209ec/lessons/601ae704-1035-4287-8b11-e2c2716217ad/concepts/d4aca031-508f-4e0b-b493-e7b706120f81) at the end of the CNN lesson is a solid starting point. You'll have to change the number of classes and possibly the preprocessing, but aside from that it's plug and play! \n",
    "\n",
    "With the LeNet-5 solution from the lecture, you should expect a validation set accuracy of about 0.89. To meet specifications, the validation set accuracy will need to be at least 0.93. It is possible to get an even higher accuracy, but 0.93 is the minimum for a successful project submission. \n",
    "\n",
    "There are various aspects to consider when thinking about this problem:\n",
    "\n",
    "- Neural network architecture (is the network over or underfitting?)\n",
    "- Play around preprocessing techniques (normalization, rgb to grayscale, etc)\n",
    "- Number of examples per label (some have more than others).\n",
    "- Generate fake data.\n",
    "\n",
    "Here is an example of a [published baseline model on this problem](http://yann.lecun.com/exdb/publis/pdf/sermanet-ijcnn-11.pdf). It's not required to be familiar with the approach used in the paper but, it's good practice to try to read papers like these."
   ]
  },
  {
   "cell_type": "markdown",
   "metadata": {},
   "source": [
    "### Pre-process the Data Set (normalization, grayscale, etc.)"
   ]
  },
  {
   "cell_type": "markdown",
   "metadata": {},
   "source": [
    "Minimally, the image data should be normalized so that the data has mean zero and equal variance. For image data, `(pixel - 128)/ 128` is a quick way to approximately normalize the data and can be used in this project. \n",
    "\n",
    "Other pre-processing steps are optional. You can try different techniques to see if it improves performance. \n",
    "\n",
    "Use the code cell (or multiple code cells, if necessary) to implement the first step of your project."
   ]
  },
  {
   "cell_type": "code",
   "execution_count": 9,
   "metadata": {
    "collapsed": true
   },
   "outputs": [],
   "source": [
    "### Preprocess the data here. It is required to normalize the data. Other preprocessing steps could include \n",
    "### converting to grayscale, etc.\n",
    "### Feel free to use as many code cells as needed.\n",
    "def rgb2gray_func(a):\n",
    "    r, g, b = a[0], a[1], a[2]\n",
    "    gray = 0.2989 * r + 0.5870 * g + 0.1140 * b\n",
    "    ret = np.array([gray])\n",
    "    return ret\n",
    "\n",
    "def rgb2gray(rgb):\n",
    "    return np.apply_along_axis(rgb2gray_func, 3, rgb)\n",
    "X_train_gray = rgb2gray(X_train)\n",
    "X_train_gray_normalized = (X_train_gray-128)/128\n",
    "X_valid_gray = rgb2gray(X_valid)\n",
    "X_valid_gray_normalized = (X_valid_gray-128)/128\n"
   ]
  },
  {
   "cell_type": "code",
   "execution_count": 10,
   "metadata": {},
   "outputs": [
    {
     "name": "stdout",
     "output_type": "stream",
     "text": [
      "(60087, 32, 32, 1)\n",
      "(60087,)\n"
     ]
    }
   ],
   "source": [
    "from scipy.ndimage import rotate\n",
    "X_train_gray_normalized_rotated_list = []\n",
    "y_train_rotated_list = []\n",
    "for i in range(0, X_train_gray_normalized.shape[0]):\n",
    "    c = y_train[i]\n",
    "    if track[c] < 500:\n",
    "        X_train_gray_normalized_rotated_list.append(rotate(X_train_gray_normalized[i], 90))\n",
    "        X_train_gray_normalized_rotated_list.append(rotate(X_train_gray_normalized[i], 180))\n",
    "        X_train_gray_normalized_rotated_list.append(rotate(X_train_gray_normalized[i], 270))\n",
    "        y_train_rotated_list.append(c)\n",
    "        y_train_rotated_list.append(c)\n",
    "        y_train_rotated_list.append(c)\n",
    "    elif track[c] < 700:\n",
    "        X_train_gray_normalized_rotated_list.append(rotate(X_train_gray_normalized[i], 90))\n",
    "        X_train_gray_normalized_rotated_list.append(rotate(X_train_gray_normalized[i], 180))\n",
    "        y_train_rotated_list.append(c)\n",
    "        y_train_rotated_list.append(c)\n",
    "    elif(track[c] < 1000):\n",
    "        X_train_gray_normalized_rotated_list.append(rotate(X_train_gray_normalized[i], 90))\n",
    "        y_train_rotated_list.append(c)\n",
    "X_train_gray_normalized_rotated = np.asarray(X_train_gray_normalized_rotated_list)\n",
    "y_train_rotated = np.asarray(y_train_rotated_list)\n",
    "X_train_final = np.vstack((X_train_gray_normalized, X_train_gray_normalized_rotated))\n",
    "print(X_train_final.shape)\n",
    "y_train_final = np.append(y_train, y_train_rotated)\n",
    "print(y_train_final.shape)\n",
    "n_train = X_train_final.shape[0]"
   ]
  },
  {
   "cell_type": "code",
   "execution_count": 11,
   "metadata": {},
   "outputs": [
    {
     "data": {
      "text/plain": [
       "<matplotlib.text.Text at 0x13abfecc0>"
      ]
     },
     "execution_count": 11,
     "metadata": {},
     "output_type": "execute_result"
    },
    {
     "data": {
      "image/png": "[encoded data removed]",
      "text/plain": [
       "<matplotlib.figure.Figure at 0x120964f98>"
      ]
     },
     "metadata": {},
     "output_type": "display_data"
    }
   ],
   "source": [
    "final_x_train, final_y_train, _ = get_example_distribution(y_train_final)\n",
    "\n",
    "\n",
    "plt.figure(4)\n",
    "plt.bar(final_x_train, final_y_train, align='center', alpha=0.5)\n",
    "plt.title(\"Final Training Traffic Sign Distribution\")\n",
    "plt.xlabel(\"Class\")\n",
    "plt.ylabel(\"Number of examples\")"
   ]
  },
  {
   "cell_type": "markdown",
   "metadata": {},
   "source": [
    "### Model Architecture"
   ]
  },
  {
   "cell_type": "code",
   "execution_count": 16,
   "metadata": {
    "collapsed": true
   },
   "outputs": [],
   "source": [
    "### Define your architecture here.\n",
    "### Feel free to use as many code cells as needed.\n",
    "def leNet(input):\n",
    "    mu = 0\n",
    "    sigma = 0.1\n",
    "    # convolution layer 1\n",
    "    conv1_W = tf.Variable(tf.truncated_normal(shape=(5, 5, 1, 16), mean=mu, stddev=sigma))\n",
    "    conv1_b = tf.Variable(tf.zeros(16))\n",
    "    conv1 = tf.nn.conv2d(input, conv1_W, [1,1,1,1], 'VALID') + conv1_b\n",
    "    conv1 = tf.nn.relu(conv1)\n",
    "    \n",
    "    # max pool layer 2\n",
    "    s2 = tf.nn.max_pool(conv1, ksize=[1,2,2,1], strides=[1,2,2,1], padding='VALID')\n",
    "    \n",
    "    # convolution layer 3\n",
    "    conv3_W = tf.Variable(tf.truncated_normal(shape=(5, 5, 16, 128), mean=mu, stddev=sigma))\n",
    "    conv3_b = tf.Variable(tf.zeros(128))\n",
    "    conv3 = tf.nn.conv2d(s2, conv3_W, [1,1,1,1], 'VALID') + conv3_b\n",
    "    conv3 = tf.nn.relu(conv3)\n",
    "    \n",
    "    # max pool layer 4\n",
    "    s4 = tf.nn.max_pool(conv3, ksize=[1,2,2,1], strides=[1,2,2,1], padding='VALID')\n",
    "    s4 = tf.nn.dropout(s4, 0.7)\n",
    "    \n",
    "    # flatten\n",
    "    flatten = tf.contrib.layers.flatten(s4)\n",
    "    \n",
    "    # fully-connected layer 5\n",
    "    fc5_W = tf.Variable(tf.truncated_normal(shape=(3200, 800), mean=mu, stddev=sigma))\n",
    "    fc5_b = tf.Variable(tf.zeros(800))\n",
    "    fc5 = tf.matmul(flatten, fc5_W) + fc5_b\n",
    "    fc5 = tf.nn.relu(fc5)\n",
    "    \n",
    "    # fully-connected layer 5\n",
    "    fc6_W = tf.Variable(tf.truncated_normal(shape=(800, 400), mean=mu, stddev=sigma))\n",
    "    fc6_b = tf.Variable(tf.zeros(400))\n",
    "    fc6 = tf.matmul(fc5, fc6_W) + fc6_b\n",
    "    fc6 = tf.nn.relu(fc6)\n",
    "    \n",
    "    # fully-connected layer 5\n",
    "    fc7_W = tf.Variable(tf.truncated_normal(shape=(400, 120), mean=mu, stddev=sigma))\n",
    "    fc7_b = tf.Variable(tf.zeros(120))\n",
    "    fc7 = tf.matmul(fc6, fc7_W) + fc7_b\n",
    "    fc7 = tf.nn.relu(fc7)\n",
    "    \n",
    "    # fully-connected layer 6\n",
    "    fc8_W = tf.Variable(tf.truncated_normal(shape=(120, 84), mean=mu, stddev=sigma))\n",
    "    fc8_b = tf.Variable(tf.zeros(84))\n",
    "    fc8 = tf.matmul(fc7, fc8_W) + fc8_b\n",
    "    fc8 = tf.nn.relu(fc8)\n",
    "\n",
    "    # output layer\n",
    "    output_W = tf.Variable(tf.truncated_normal(shape=(84, n_classes), mean=mu, stddev=sigma))\n",
    "    output_b = tf.Variable(tf.zeros(n_classes))\n",
    "    output = tf.matmul(fc8, output_W) + output_b\n",
    "\n",
    "    return output\n",
    "    \n",
    "    "
   ]
  },
  {
   "cell_type": "markdown",
   "metadata": {},
   "source": [
    "### Train, Validate and Test the Model"
   ]
  },
  {
   "cell_type": "markdown",
   "metadata": {},
   "source": [
    "A validation set can be used to assess how well the model is performing. A low accuracy on the training and validation\n",
    "sets imply underfitting. A high accuracy on the training set but low accuracy on the validation set implies overfitting."
   ]
  },
  {
   "cell_type": "code",
   "execution_count": 18,
   "metadata": {},
   "outputs": [
    {
     "name": "stdout",
     "output_type": "stream",
     "text": [
      "Start training...\n",
      "EPOCH 0...\n",
      "Training accuracy: 0.9126433338345933\n",
      "Validation accuracy: 0.8371882089681907\n",
      "EPOCH 1...\n",
      "Training accuracy: 0.9651338891711867\n",
      "Validation accuracy: 0.8879818597077783\n",
      "EPOCH 2...\n",
      "Training accuracy: 0.9707091384159635\n",
      "Validation accuracy: 0.8913832199816801\n",
      "EPOCH 3...\n",
      "Training accuracy: 0.9863198362374557\n",
      "Validation accuracy: 0.9115646258773717\n",
      "EPOCH 4...\n",
      "Training accuracy: 0.9894486328157505\n",
      "Validation accuracy: 0.9208616777612508\n",
      "EPOCH 5...\n",
      "Training accuracy: 0.9909464609649342\n",
      "Validation accuracy: 0.9290249433376891\n",
      "EPOCH 6...\n",
      "Training accuracy: 0.9910796012448616\n",
      "Validation accuracy: 0.9269841270111586\n",
      "EPOCH 7...\n",
      "Training accuracy: 0.9894153477457687\n",
      "Validation accuracy: 0.9312925167635184\n",
      "EPOCH 8...\n",
      "Training accuracy: 0.9911794564548072\n",
      "Validation accuracy: 0.9351473925875968\n",
      "EPOCH 9...\n",
      "Training accuracy: 0.9925441443240635\n",
      "Validation accuracy: 0.9265306122719296\n",
      "EPOCH 10...\n",
      "Training accuracy: 0.9952901625975669\n",
      "Validation accuracy: 0.9267573698848284\n",
      "EPOCH 11...\n",
      "Training accuracy: 0.9918451578544444\n",
      "Validation accuracy: 0.9312925170068027\n",
      "EPOCH 12...\n",
      "Training accuracy: 0.9976534025821504\n",
      "Validation accuracy: 0.9401360541784844\n",
      "EPOCH 13...\n",
      "Training accuracy: 0.9885832210120937\n",
      "Validation accuracy: 0.9176870748839951\n",
      "EPOCH 14...\n",
      "Training accuracy: 0.9960890042771315\n",
      "Validation accuracy: 0.9360544217957391\n",
      "EPOCH 15...\n",
      "Training accuracy: 0.9953567327375306\n",
      "Validation accuracy: 0.9396825399798872\n",
      "EPOCH 16...\n",
      "Training accuracy: 0.9967047780717959\n",
      "Validation accuracy: 0.9464852607709751\n",
      "EPOCH 17...\n",
      "Training accuracy: 0.9960890042771315\n",
      "Validation accuracy: 0.9190476188043348\n",
      "EPOCH 18...\n",
      "Training accuracy: 0.9946743888029025\n",
      "Validation accuracy: 0.9249433107116596\n",
      "EPOCH 19...\n",
      "Training accuracy: 0.9981693211509978\n",
      "Validation accuracy: 0.9476190478893635\n",
      "EPOCH 20...\n",
      "Training accuracy: 0.9957062259723402\n",
      "Validation accuracy: 0.9265306125422454\n",
      "EPOCH 21...\n",
      "Training accuracy: 0.9979196831420053\n",
      "Validation accuracy: 0.9342403631091388\n",
      "EPOCH 22...\n",
      "Training accuracy: 0.9960390766880303\n",
      "Validation accuracy: 0.9299319725458314\n",
      "EPOCH 23...\n",
      "Training accuracy: 0.9917453026444988\n",
      "Validation accuracy: 0.928117914129547\n",
      "EPOCH 24...\n",
      "Training accuracy: 0.9974703346813787\n",
      "Validation accuracy: 0.9349206349476665\n",
      "EPOCH 25...\n",
      "Training accuracy: 0.9977699003112154\n",
      "Validation accuracy: 0.9331065757744977\n",
      "EPOCH 26...\n",
      "Training accuracy: 0.9927105696739728\n",
      "Validation accuracy: 0.933333333360365\n",
      "EPOCH 27...\n",
      "Training accuracy: 0.9950405245727029\n",
      "Validation accuracy: 0.9181405896502558\n",
      "EPOCH 28...\n",
      "Training accuracy: 0.998801737480653\n",
      "Validation accuracy: 0.9464852610412909\n",
      "EPOCH 29...\n",
      "Training accuracy: 0.9981693211509978\n",
      "Validation accuracy: 0.9328798183778516\n"
     ]
    }
   ],
   "source": [
    "### Train your model here.\n",
    "### Calculate and report the accuracy on the training and validation set.\n",
    "### Once a final model architecture is selected, \n",
    "### the accuracy on the test set should be calculated and reported as well.\n",
    "### Feel free to use as many code cells as needed.\n",
    "import tensorflow as tf\n",
    "from sklearn.utils import shuffle\n",
    "\n",
    "x = tf.placeholder(tf.float32, (None, 32, 32, 1))\n",
    "y = tf.placeholder(tf.int32, (None))\n",
    "one_hot_y = tf.one_hot(y, n_classes)\n",
    "\n",
    "BATCH_SIZE = 128\n",
    "EPOCHS = 30\n",
    "\n",
    "rate = 0.001\n",
    "logits = leNet(x)\n",
    "cross_entropy = tf.nn.softmax_cross_entropy_with_logits(labels=one_hot_y, logits=logits)\n",
    "loss = tf.reduce_mean(cross_entropy)\n",
    "optimizer = tf.train.AdamOptimizer(rate)\n",
    "train = optimizer.minimize(loss)\n",
    "saver = tf.train.Saver()\n",
    "\n",
    "correct_predication = tf.equal(tf.argmax(logits, 1), tf.argmax(one_hot_y, 1))\n",
    "accuracy = tf.reduce_mean(tf.cast(correct_predication, tf.float32))\n",
    "\n",
    "def evaluate(X_data, y_data):\n",
    "    sess = tf.get_default_session()\n",
    "    tot_accu = 0.0\n",
    "    for offset in range(0, len(X_data), BATCH_SIZE):\n",
    "        end = offset + BATCH_SIZE\n",
    "        X_batch, y_batch = X_data[offset:end], y_data[offset:end]\n",
    "        accu = sess.run(accuracy, feed_dict={x: X_batch, y: y_batch})\n",
    "        tot_accu += accu*len(X_batch)\n",
    "    return tot_accu/len(X_data)\n",
    "\n",
    "with tf.Session() as sess:\n",
    "    sess.run(tf.global_variables_initializer())\n",
    "    print(\"Start training...\")\n",
    "    \n",
    "    for epoch in range(EPOCHS):\n",
    "        X_train_final, y_train_final = shuffle(X_train_final, y_train_final)\n",
    "        print(\"EPOCH {}...\".format(epoch))\n",
    "        for offset in range(0, n_train, BATCH_SIZE):\n",
    "            end = offset + BATCH_SIZE\n",
    "            batch_x, batch_y = X_train_final[offset:end], y_train_final[offset:end]\n",
    "            sess.run(train, feed_dict={x: batch_x, y: batch_y})\n",
    "        train_accu = evaluate(X_train_final, y_train_final)\n",
    "        print(\"Training accuracy: {}\".format(train_accu))\n",
    "        valid_accu = evaluate(X_valid_gray_normalized, y_valid)\n",
    "        print(\"Validation accuracy: {}\".format(valid_accu))\n",
    "    saver.save(sess, './lenet_model')"
   ]
  },
  {
   "cell_type": "code",
   "execution_count": 54,
   "metadata": {},
   "outputs": [
    {
     "name": "stdout",
     "output_type": "stream",
     "text": [
      "INFO:tensorflow:Restoring parameters from ./lenet_model\n",
      "Test Accuracy = 0.932\n"
     ]
    }
   ],
   "source": [
    "\n",
    "X_test_gray = rgb2gray(X_test)\n",
    "X_test_gray_normalized = (X_test_gray-128)/128\n",
    "with tf.Session() as sess:\n",
    "    saver.restore(sess, tf.train.latest_checkpoint('.'))\n",
    "    test_accuracy = evaluate(X_test_gray_normalized, y_test)\n",
    "    print(\"Test Accuracy = {:.3f}\".format(test_accuracy))"
   ]
  },
  {
   "cell_type": "markdown",
   "metadata": {},
   "source": [
    "---\n",
    "\n",
    "## Step 3: Test a Model on New Images\n",
    "\n",
    "To give yourself more insight into how your model is working, download at least five pictures of German traffic signs from the web and use your model to predict the traffic sign type.\n",
    "\n",
    "You may find `signnames.csv` useful as it contains mappings from the class id (integer) to the actual sign name."
   ]
  },
  {
   "cell_type": "markdown",
   "metadata": {},
   "source": [
    "### Load and Output the Images"
   ]
  },
  {
   "cell_type": "code",
   "execution_count": 119,
   "metadata": {},
   "outputs": [
    {
     "data": {
      "image/png": "[encoded data removed]",
      "text/plain": [
       "<matplotlib.figure.Figure at 0x18d6dbe10>"
      ]
     },
     "metadata": {},
     "output_type": "display_data"
    },
    {
     "data": {
      "image/png": "[encoded data removed]",
      "text/plain": [
       "<matplotlib.figure.Figure at 0x1b2ac50b8>"
      ]
     },
     "metadata": {},
     "output_type": "display_data"
    },
    {
     "data": {
      "image/png": "[encoded data removed]",
      "text/plain": [
       "<matplotlib.figure.Figure at 0x1a868de48>"
      ]
     },
     "metadata": {},
     "output_type": "display_data"
    },
    {
     "data": {
      "image/png": "[encoded data removed]",
      "text/plain": [
       "<matplotlib.figure.Figure at 0x1aa2cde10>"
      ]
     },
     "metadata": {},
     "output_type": "display_data"
    },
    {
     "data": {
      "image/png": "[encoded data removed]",
      "text/plain": [
       "<matplotlib.figure.Figure at 0x19b90d128>"
      ]
     },
     "metadata": {},
     "output_type": "display_data"
    },
    {
     "data": {
      "image/png": "[encoded data removed]",
      "text/plain": [
       "<matplotlib.figure.Figure at 0x1af5829e8>"
      ]
     },
     "metadata": {},
     "output_type": "display_data"
    },
    {
     "data": {
      "image/png": "[encoded data removed]",
      "text/plain": [
       "<matplotlib.figure.Figure at 0x1971a2a90>"
      ]
     },
     "metadata": {},
     "output_type": "display_data"
    }
   ],
   "source": [
    "### Load the images and plot them here.\n",
    "### Feel free to use as many code cells as needed.\n",
    "import cv2\n",
    "import os\n",
    "images = []\n",
    "for img_name in os.listdir(\"test_images_from_web/\"):\n",
    "    if img_name.startswith(\".\"):\n",
    "        continue\n",
    "    bgr_img = cv2.imread(\"test_images_from_web/\" + img_name)\n",
    "    rgb_img = cv2.cvtColor(bgr_img, cv2.COLOR_BGR2RGB)\n",
    "    resized_img = cv2.resize(rgb_img, (32,32))\n",
    "    images.append(resized_img)\n",
    "    img_names.append(img_name)\n",
    "for i, img in enumerate(images):\n",
    "    plt.figure(i+1)\n",
    "    plt.imshow(img)"
   ]
  },
  {
   "cell_type": "markdown",
   "metadata": {},
   "source": [
    "### Predict the Sign Type for Each Image"
   ]
  },
  {
   "cell_type": "code",
   "execution_count": 127,
   "metadata": {},
   "outputs": [
    {
     "name": "stdout",
     "output_type": "stream",
     "text": [
      "INFO:tensorflow:Restoring parameters from ./lenet_model\n",
      "Predictions of test images from web: [21 17 28 25  1 14 13]\n"
     ]
    }
   ],
   "source": [
    "### Run the predictions here and use the model to output the prediction for each image.\n",
    "### Make sure to pre-process the images with the same pre-processing pipeline used earlier.\n",
    "### Feel free to use as many code cells as needed.\n",
    "y_web_test = np.array([21, 17, 28, 25, 1, 14, 13])\n",
    "x_web_test_gray = rgb2gray(np.asarray(images))\n",
    "x_web_test = (np.asarray(x_web_test_gray)-128)/128\n",
    "       \n",
    "def predict(X_data):\n",
    "    sess = tf.get_default_session()\n",
    "    for offset in range(0, len(X_data), BATCH_SIZE):\n",
    "        end = offset + BATCH_SIZE\n",
    "        X_batch = X_data[offset:end]\n",
    "        prediction = tf.argmax(logits, 1)\n",
    "        prediction_ret = sess.run(prediction, feed_dict={x: X_batch})\n",
    "    return prediction_ret\n",
    "\n",
    "with tf.Session() as sess:\n",
    "    new_saver = tf.train.import_meta_graph('lenet_model.meta')\n",
    "    new_saver.restore(sess, tf.train.latest_checkpoint('.'))\n",
    "    predictions = predict(x_web_test)\n",
    "    print(\"Predictions of test images from web: {}\".format(predictions))\n"
   ]
  },
  {
   "cell_type": "markdown",
   "metadata": {},
   "source": [
    "### Analyze Performance"
   ]
  },
  {
   "cell_type": "code",
   "execution_count": 134,
   "metadata": {},
   "outputs": [
    {
     "name": "stdout",
     "output_type": "stream",
     "text": [
      "INFO:tensorflow:Restoring parameters from ./lenet_model\n",
      "Accuracy of test images from web: 1.0\n"
     ]
    }
   ],
   "source": [
    "### Calculate the accuracy for these 5 new images. \n",
    "### For example, if the model predicted 1 out of 5 signs correctly, it's 20% accurate on these new images.\n",
    "accuracy = tf.reduce_mean(tf.cast(correct_predication, tf.float32))\n",
    "\n",
    "with tf.Session() as sess:\n",
    "    new_saver = tf.train.import_meta_graph('lenet_model.meta')\n",
    "    new_saver.restore(sess, tf.train.latest_checkpoint('.'))\n",
    "    web_test_accuracy = evaluate(x_web_test, y_web_test)\n",
    "    print(\"Accuracy of test images from web: {}\".format(web_test_accuracy))"
   ]
  },
  {
   "cell_type": "markdown",
   "metadata": {},
   "source": [
    "### Output Top 5 Softmax Probabilities For Each Image Found on the Web"
   ]
  },
  {
   "cell_type": "markdown",
   "metadata": {},
   "source": [
    "For each of the new images, print out the model's softmax probabilities to show the **certainty** of the model's predictions (limit the output to the top 5 probabilities for each image). [`tf.nn.top_k`](https://www.tensorflow.org/versions/r0.12/api_docs/python/nn.html#top_k) could prove helpful here. \n",
    "\n",
    "The example below demonstrates how tf.nn.top_k can be used to find the top k predictions for each image.\n",
    "\n",
    "`tf.nn.top_k` will return the values and indices (class ids) of the top k predictions. So if k=3, for each sign, it'll return the 3 largest probabilities (out of a possible 43) and the correspoding class ids.\n",
    "\n",
    "Take this numpy array as an example. The values in the array represent predictions. The array contains softmax probabilities for five candidate images with six possible classes. `tk.nn.top_k` is used to choose the three classes with the highest probability:\n",
    "\n",
    "```\n",
    "# (5, 6) array\n",
    "a = np.array([[ 0.24879643,  0.07032244,  0.12641572,  0.34763842,  0.07893497,\n",
    "         0.12789202],\n",
    "       [ 0.28086119,  0.27569815,  0.08594638,  0.0178669 ,  0.18063401,\n",
    "         0.15899337],\n",
    "       [ 0.26076848,  0.23664738,  0.08020603,  0.07001922,  0.1134371 ,\n",
    "         0.23892179],\n",
    "       [ 0.11943333,  0.29198961,  0.02605103,  0.26234032,  0.1351348 ,\n",
    "         0.16505091],\n",
    "       [ 0.09561176,  0.34396535,  0.0643941 ,  0.16240774,  0.24206137,\n",
    "         0.09155967]])\n",
    "```\n",
    "\n",
    "Running it through `sess.run(tf.nn.top_k(tf.constant(a), k=3))` produces:\n",
    "\n",
    "```\n",
    "TopKV2(values=array([[ 0.34763842,  0.24879643,  0.12789202],\n",
    "       [ 0.28086119,  0.27569815,  0.18063401],\n",
    "       [ 0.26076848,  0.23892179,  0.23664738],\n",
    "       [ 0.29198961,  0.26234032,  0.16505091],\n",
    "       [ 0.34396535,  0.24206137,  0.16240774]]), indices=array([[3, 0, 5],\n",
    "       [0, 1, 4],\n",
    "       [0, 5, 1],\n",
    "       [1, 3, 5],\n",
    "       [1, 4, 3]], dtype=int32))\n",
    "```\n",
    "\n",
    "Looking just at the first row we get `[ 0.34763842,  0.24879643,  0.12789202]`, you can confirm these are the 3 largest probabilities in `a`. You'll also notice `[3, 0, 5]` are the corresponding indices."
   ]
  },
  {
   "cell_type": "code",
   "execution_count": 140,
   "metadata": {},
   "outputs": [
    {
     "name": "stdout",
     "output_type": "stream",
     "text": [
      "INFO:tensorflow:Restoring parameters from ./lenet_model\n",
      "TopKV2(values=array([[  7.70300388e-01,   2.15286732e-01,   1.39923431e-02,\n",
      "          2.00573893e-04,   5.81017994e-05],\n",
      "       [  1.00000000e+00,   4.97965502e-10,   3.26934741e-13,\n",
      "          1.27755296e-13,   3.11646609e-15],\n",
      "       [  1.00000000e+00,   6.48135733e-13,   5.59336174e-15,\n",
      "          4.68095818e-15,   2.43881750e-16],\n",
      "       [  9.99957442e-01,   4.25953622e-05,   2.03475974e-08,\n",
      "          1.79252357e-09,   2.05661460e-11],\n",
      "       [  7.92629659e-01,   2.05643952e-01,   1.04239886e-03,\n",
      "          5.84681926e-04,   5.12150218e-05],\n",
      "       [  9.96801257e-01,   2.54699076e-03,   5.17330656e-04,\n",
      "          2.87987459e-05,   2.84573671e-05],\n",
      "       [  9.99999881e-01,   7.60111689e-08,   1.21671331e-08,\n",
      "          1.13565788e-08,   2.62003419e-09]], dtype=float32), indices=array([[25, 21, 23, 19, 31],\n",
      "       [17, 14, 13, 41, 35],\n",
      "       [28, 35, 14, 37, 13],\n",
      "       [25, 33, 23, 19, 41],\n",
      "       [ 2,  1,  7,  0,  5],\n",
      "       [14,  0, 37, 34, 21],\n",
      "       [13, 29, 22, 25, 26]], dtype=int32))\n"
     ]
    }
   ],
   "source": [
    "### Print out the top five softmax probabilities for the predictions on the German traffic sign images found on the web. \n",
    "### Feel free to use as many code cells as needed.\n",
    "with tf.Session() as sess:\n",
    "    new_saver = tf.train.import_meta_graph('lenet_model.meta')\n",
    "    new_saver.restore(sess, tf.train.latest_checkpoint('.'))\n",
    "    softmax_logits = tf.nn.softmax(logits)\n",
    "    top_k = tf.nn.top_k(softmax_logits, k=5)\n",
    "    top_k_val = sess.run(top_k, feed_dict={x: x_web_test})\n",
    "    \n",
    "    print(top_k_val)"
   ]
  },
  {
   "cell_type": "markdown",
   "metadata": {},
   "source": [
    "### Project Writeup\n",
    "\n",
    "Once you have completed the code implementation, document your results in a project writeup using this [template](https://github.com/udacity/CarND-Traffic-Sign-Classifier-Project/blob/master/writeup_template.md) as a guide. The writeup can be in a markdown or pdf file. "
   ]
  },
  {
   "cell_type": "markdown",
   "metadata": {},
   "source": [
    "> **Note**: Once you have completed all of the code implementations and successfully answered each question above, you may finalize your work by exporting the iPython Notebook as an HTML document. You can do this by using the menu above and navigating to  \\n\",\n",
    "    \"**File -> Download as -> HTML (.html)**. Include the finished document along with this notebook as your submission."
   ]
  },
  {
   "cell_type": "markdown",
   "metadata": {},
   "source": [
    "---\n",
    "\n",
    "## Step 4 (Optional): Visualize the Neural Network's State with Test Images\n",
    "\n",
    " This Section is not required to complete but acts as an additional excersise for understaning the output of a neural network's weights. While neural networks can be a great learning device they are often referred to as a black box. We can understand what the weights of a neural network look like better by plotting their feature maps. After successfully training your neural network you can see what it's feature maps look like by plotting the output of the network's weight layers in response to a test stimuli image. From these plotted feature maps, it's possible to see what characteristics of an image the network finds interesting. For a sign, maybe the inner network feature maps react with high activation to the sign's boundary outline or to the contrast in the sign's painted symbol.\n",
    "\n",
    " Provided for you below is the function code that allows you to get the visualization output of any tensorflow weight layer you want. The inputs to the function should be a stimuli image, one used during training or a new one you provided, and then the tensorflow variable name that represents the layer's state during the training process, for instance if you wanted to see what the [LeNet lab's](https://classroom.udacity.com/nanodegrees/nd013/parts/fbf77062-5703-404e-b60c-95b78b2f3f9e/modules/6df7ae49-c61c-4bb2-a23e-6527e69209ec/lessons/601ae704-1035-4287-8b11-e2c2716217ad/concepts/d4aca031-508f-4e0b-b493-e7b706120f81) feature maps looked like for it's second convolutional layer you could enter conv2 as the tf_activation variable.\n",
    "\n",
    "For an example of what feature map outputs look like, check out NVIDIA's results in their paper [End-to-End Deep Learning for Self-Driving Cars](https://devblogs.nvidia.com/parallelforall/deep-learning-self-driving-cars/) in the section Visualization of internal CNN State. NVIDIA was able to show that their network's inner weights had high activations to road boundary lines by comparing feature maps from an image with a clear path to one without. Try experimenting with a similar test to show that your trained network's weights are looking for interesting features, whether it's looking at differences in feature maps from images with or without a sign, or even what feature maps look like in a trained network vs a completely untrained one on the same sign image.\n",
    "\n",
    "<figure>\n",
    " <img src=\"visualize_cnn.png\" width=\"380\" alt=\"Combined Image\" />\n",
    " <figcaption>\n",
    " <p></p> \n",
    " <p style=\"text-align: center;\"> Your output should look something like this (above)</p> \n",
    " </figcaption>\n",
    "</figure>\n",
    " <p></p> \n"
   ]
  },
  {
   "cell_type": "code",
   "execution_count": null,
   "metadata": {
    "collapsed": true
   },
   "outputs": [],
   "source": [
    "### Visualize your network's feature maps here.\n",
    "### Feel free to use as many code cells as needed.\n",
    "\n",
    "# image_input: the test image being fed into the network to produce the feature maps\n",
    "# tf_activation: should be a tf variable name used during your training procedure that represents the calculated state of a specific weight layer\n",
    "# activation_min/max: can be used to view the activation contrast in more detail, by default matplot sets min and max to the actual min and max values of the output\n",
    "# plt_num: used to plot out multiple different weight feature map sets on the same block, just extend the plt number for each new feature map entry\n",
    "\n",
    "def outputFeatureMap(image_input, tf_activation, activation_min=-1, activation_max=-1 ,plt_num=1):\n",
    "    # Here make sure to preprocess your image_input in a way your network expects\n",
    "    # with size, normalization, ect if needed\n",
    "    # image_input =\n",
    "    # Note: x should be the same name as your network's tensorflow data placeholder variable\n",
    "    # If you get an error tf_activation is not defined it may be having trouble accessing the variable from inside a function\n",
    "    activation = tf_activation.eval(session=sess,feed_dict={x : image_input})\n",
    "    featuremaps = activation.shape[3]\n",
    "    plt.figure(plt_num, figsize=(15,15))\n",
    "    for featuremap in range(featuremaps):\n",
    "        plt.subplot(6,8, featuremap+1) # sets the number of feature maps to show on each row and column\n",
    "        plt.title('FeatureMap ' + str(featuremap)) # displays the feature map number\n",
    "        if activation_min != -1 & activation_max != -1:\n",
    "            plt.imshow(activation[0,:,:, featuremap], interpolation=\"nearest\", vmin =activation_min, vmax=activation_max, cmap=\"gray\")\n",
    "        elif activation_max != -1:\n",
    "            plt.imshow(activation[0,:,:, featuremap], interpolation=\"nearest\", vmax=activation_max, cmap=\"gray\")\n",
    "        elif activation_min !=-1:\n",
    "            plt.imshow(activation[0,:,:, featuremap], interpolation=\"nearest\", vmin=activation_min, cmap=\"gray\")\n",
    "        else:\n",
    "            plt.imshow(activation[0,:,:, featuremap], interpolation=\"nearest\", cmap=\"gray\")"
   ]
  }
 ],
 "metadata": {
  "anaconda-cloud": {},
  "kernelspec": {
   "display_name": "Python 3",
   "language": "python",
   "name": "python3"
  },
  "language_info": {
   "codemirror_mode": {
    "name": "ipython",
    "version": 3
   },
   "file_extension": ".py",
   "mimetype": "text/x-python",
   "name": "python",
   "nbconvert_exporter": "python",
   "pygments_lexer": "ipython3",
   "version": "3.6.1"
  }
 },
 "nbformat": 4,
 "nbformat_minor": 1
}
